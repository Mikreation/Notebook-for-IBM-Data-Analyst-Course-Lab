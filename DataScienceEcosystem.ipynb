{
  "metadata": {
    "kernelspec": {
      "name": "python",
      "display_name": "Python (Pyodide)",
      "language": "python"
    },
    "language_info": {
      "codemirror_mode": {
        "name": "python",
        "version": 3
      },
      "file_extension": ".py",
      "mimetype": "text/x-python",
      "name": "python",
      "nbconvert_exporter": "python",
      "pygments_lexer": "ipython3",
      "version": "3.8"
    }
  },
  "nbformat_minor": 4,
  "nbformat": 4,
  "cells": [
    {
      "cell_type": "markdown",
      "source": "# Data Science Tools and Ecosystem",
      "metadata": {}
    },
    {
      "cell_type": "markdown",
      "source": "In this notebook, I will be summarizing the ecosystem and tools for data science.",
      "metadata": {}
    },
    {
      "cell_type": "markdown",
      "source": "**Objectives**:\n\n- List commonly used programming langauges in data science\n- List commonly used libraries in data sciences\n- Perform basic numerical operations in python",
      "metadata": {}
    },
    {
      "cell_type": "markdown",
      "source": "Programming languages commonly used by Data Scientists:\n\n1. **Python**: High-level langauge with enxtensive libraries for data analysis, machine-learing, and visualizations. \n2. **R**: Used primarily in academia and research for statistical analysis and data visualization.\n3. **SQL**: Used as an intermediary between large databases the user to manipulate and extract data via queries.\n4. **Julia** - High-performance programming language specializing in numerical computations.\n5. **Java**: Object-oriented programming language used in a variety of applications accross all of data science. \n6. **C/C#/C++**: High performance language with access to memory, making it an optimal choice for data-science tool development.",
      "metadata": {}
    },
    {
      "cell_type": "markdown",
      "source": "Programming libraries commonly used by Data Scientists:\n\n1. **Pandas**: Powerful data manipulation and analysis library.\n2. **TensorFlow**: developed for large scale machine learning and neural network training.\n3. **PyTorch**: A flexible, open source llibrary popular for deep learing.\n4. **Matplotlib**: A comprhensive Python liibrary for data visualization.\n5. **SeaBorn**: Built on Matplotlib, this library is used for for more advanced visualizations thant Matplotlib alone.",
      "metadata": {}
    },
    {
      "cell_type": "markdown",
      "source": "| Data Science Tools |\n|--------------------|\n| Jupyter Notebook   |\n| RStudio            |\n| Apache Spark       |",
      "metadata": {}
    },
    {
      "cell_type": "markdown",
      "source": "### Below are a few examples of evaluating arithmetic expressions in Python",
      "metadata": {}
    },
    {
      "cell_type": "code",
      "source": "# This a simple arithmetic expression to mutiply then add integers\n(3*4)+5",
      "metadata": {
        "trusted": true
      },
      "outputs": [
        {
          "execution_count": 5,
          "output_type": "execute_result",
          "data": {
            "text/plain": "17"
          },
          "metadata": {}
        }
      ],
      "execution_count": 5
    },
    {
      "cell_type": "code",
      "source": "# This will convert 200 minutes to hours by diving by 60\n\n200/60",
      "metadata": {
        "trusted": true
      },
      "outputs": [
        {
          "execution_count": 9,
          "output_type": "execute_result",
          "data": {
            "text/plain": "3.3333333333333335"
          },
          "metadata": {}
        }
      ],
      "execution_count": 9
    },
    {
      "cell_type": "markdown",
      "source": "## Author\n\nMichael Ames",
      "metadata": {}
    },
    {
      "cell_type": "code",
      "source": "",
      "metadata": {
        "trusted": true
      },
      "outputs": [],
      "execution_count": null
    },
    {
      "cell_type": "code",
      "source": "",
      "metadata": {
        "trusted": true
      },
      "outputs": [],
      "execution_count": null
    }
  ]
}